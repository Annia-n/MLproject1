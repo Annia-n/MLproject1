{
  "nbformat": 4,
  "nbformat_minor": 0,
  "metadata": {
    "colab": {
      "provenance": []
    },
    "kernelspec": {
      "name": "python3",
      "display_name": "Python 3"
    },
    "language_info": {
      "name": "python"
    }
  },
  "cells": [
    {
      "cell_type": "code",
      "execution_count": 3,
      "metadata": {
        "colab": {
          "base_uri": "https://localhost:8080/"
        },
        "id": "IJMOtTvQ0AX_",
        "outputId": "b57dc88a-2322-44e2-a083-8854f339dbf3"
      },
      "outputs": [
        {
          "output_type": "stream",
          "name": "stdout",
          "text": [
            "                 Suburb           Address  Rooms Type      Price Method  \\\n",
            "0            Abbotsford     49 Lithgow St      3    h  1490000.0      S   \n",
            "1            Abbotsford     59A Turner St      3    h  1220000.0      S   \n",
            "2            Abbotsford     119B Yarra St      3    h  1420000.0      S   \n",
            "3            Aberfeldie        68 Vida St      3    h  1515000.0      S   \n",
            "4          Airport West  92 Clydesdale Rd      2    h   670000.0      S   \n",
            "...                 ...               ...    ...  ...        ...    ...   \n",
            "63018     Roxburgh Park         3 Carr Pl      3    h   566000.0      S   \n",
            "63019     Roxburgh Park       9 Parker Ct      3    h   500000.0      S   \n",
            "63020     Roxburgh Park    5 Parkinson Wy      3    h   545000.0      S   \n",
            "63021        Thomastown    3/1 Travers St      3    u        NaN     PI   \n",
            "63022  Williams Landing       1 Diadem Wy      4    h        NaN     SP   \n",
            "\n",
            "        SellerG        Date  Postcode             Regionname  Propertycount  \\\n",
            "0        Jellis   1/04/2017      3067  Northern Metropolitan           4019   \n",
            "1      Marshall   1/04/2017      3067  Northern Metropolitan           4019   \n",
            "2        Nelson   1/04/2017      3067  Northern Metropolitan           4019   \n",
            "3         Barry   1/04/2017      3040   Western Metropolitan           1543   \n",
            "4        Nelson   1/04/2017      3042   Western Metropolitan           3464   \n",
            "...         ...         ...       ...                    ...            ...   \n",
            "63018     Raine  31/03/2018      3064  Northern Metropolitan           5833   \n",
            "63019     Raine  31/03/2018      3064  Northern Metropolitan           5833   \n",
            "63020     Raine  31/03/2018      3064  Northern Metropolitan           5833   \n",
            "63021     Barry  31/03/2018      3074  Northern Metropolitan           7955   \n",
            "63022    Aussie  31/03/2018      3027   Western Metropolitan           1999   \n",
            "\n",
            "       Distance                 CouncilArea  \n",
            "0           3.0          Yarra City Council  \n",
            "1           3.0          Yarra City Council  \n",
            "2           3.0          Yarra City Council  \n",
            "3           7.5  Moonee Valley City Council  \n",
            "4          10.4  Moonee Valley City Council  \n",
            "...         ...                         ...  \n",
            "63018      20.6           Hume City Council  \n",
            "63019      20.6           Hume City Council  \n",
            "63020      20.6           Hume City Council  \n",
            "63021      15.3     Whittlesea City Council  \n",
            "63022      17.6        Wyndham City Council  \n",
            "\n",
            "[63023 rows x 13 columns]\n"
          ]
        }
      ],
      "source": [
        "import pandas as pd\n",
        "df = pd.read_csv(\"/content/MELBOURNE_HOUSE_PRICES_LESS.csv\", header=0 )\n",
        "print(df)\n"
      ]
    },
    {
      "cell_type": "code",
      "source": [
        "\n",
        "print(df.head())"
      ],
      "metadata": {
        "colab": {
          "base_uri": "https://localhost:8080/"
        },
        "id": "VATDJX650ovh",
        "outputId": "4fb7af19-73fb-4f5a-8c24-05f4e0189d44"
      },
      "execution_count": 4,
      "outputs": [
        {
          "output_type": "stream",
          "name": "stdout",
          "text": [
            "         Suburb           Address  Rooms Type      Price Method   SellerG  \\\n",
            "0    Abbotsford     49 Lithgow St      3    h  1490000.0      S    Jellis   \n",
            "1    Abbotsford     59A Turner St      3    h  1220000.0      S  Marshall   \n",
            "2    Abbotsford     119B Yarra St      3    h  1420000.0      S    Nelson   \n",
            "3    Aberfeldie        68 Vida St      3    h  1515000.0      S     Barry   \n",
            "4  Airport West  92 Clydesdale Rd      2    h   670000.0      S    Nelson   \n",
            "\n",
            "        Date  Postcode             Regionname  Propertycount  Distance  \\\n",
            "0  1/04/2017      3067  Northern Metropolitan           4019       3.0   \n",
            "1  1/04/2017      3067  Northern Metropolitan           4019       3.0   \n",
            "2  1/04/2017      3067  Northern Metropolitan           4019       3.0   \n",
            "3  1/04/2017      3040   Western Metropolitan           1543       7.5   \n",
            "4  1/04/2017      3042   Western Metropolitan           3464      10.4   \n",
            "\n",
            "                  CouncilArea  \n",
            "0          Yarra City Council  \n",
            "1          Yarra City Council  \n",
            "2          Yarra City Council  \n",
            "3  Moonee Valley City Council  \n",
            "4  Moonee Valley City Council  \n"
          ]
        }
      ]
    },
    {
      "cell_type": "code",
      "source": [
        "df.shape"
      ],
      "metadata": {
        "colab": {
          "base_uri": "https://localhost:8080/"
        },
        "id": "e2ApIF0C2YQI",
        "outputId": "255a1dd0-ba37-49b8-f8ee-7c35398e81cb"
      },
      "execution_count": 7,
      "outputs": [
        {
          "output_type": "execute_result",
          "data": {
            "text/plain": [
              "(48433, 13)"
            ]
          },
          "metadata": {},
          "execution_count": 7
        }
      ]
    },
    {
      "cell_type": "code",
      "source": [
        "#num of features\n",
        "df.shape[1]"
      ],
      "metadata": {
        "colab": {
          "base_uri": "https://localhost:8080/"
        },
        "id": "Z3DIYlR12eI8",
        "outputId": "978f9095-dbc6-475b-c331-c6edb0c13d24"
      },
      "execution_count": 8,
      "outputs": [
        {
          "output_type": "execute_result",
          "data": {
            "text/plain": [
              "13"
            ]
          },
          "metadata": {},
          "execution_count": 8
        }
      ]
    },
    {
      "cell_type": "code",
      "source": [
        "#preprocessing\n",
        "df.isnull()\n",
        "# Count missing values per column\n",
        "null_counts = df.isnull().sum()\n",
        "print(null_counts)\n",
        "print(f\"num of all missing values in dataset: {df.isnull().sum().sum()}\")"
      ],
      "metadata": {
        "colab": {
          "base_uri": "https://localhost:8080/"
        },
        "id": "qvJlzWTp2ks_",
        "outputId": "451f857b-e1bb-49c7-a4dc-9b02d88daa89"
      },
      "execution_count": 9,
      "outputs": [
        {
          "output_type": "stream",
          "name": "stdout",
          "text": [
            "Suburb           0\n",
            "Address          0\n",
            "Rooms            0\n",
            "Type             0\n",
            "Price            0\n",
            "Method           0\n",
            "SellerG          0\n",
            "Date             0\n",
            "Postcode         0\n",
            "Regionname       0\n",
            "Propertycount    0\n",
            "Distance         0\n",
            "CouncilArea      0\n",
            "dtype: int64\n",
            "num of all missing values in dataset: 0\n"
          ]
        }
      ]
    },
    {
      "cell_type": "code",
      "source": [
        "df.dropna(axis=0,inplace=True)\n",
        "print(df)"
      ],
      "metadata": {
        "colab": {
          "base_uri": "https://localhost:8080/"
        },
        "id": "XMf-n2mD0xMH",
        "outputId": "0ef1f4a0-246d-4ef9-8d05-07a53809b5b2"
      },
      "execution_count": 5,
      "outputs": [
        {
          "output_type": "stream",
          "name": "stdout",
          "text": [
            "              Suburb           Address  Rooms Type      Price Method  \\\n",
            "0         Abbotsford     49 Lithgow St      3    h  1490000.0      S   \n",
            "1         Abbotsford     59A Turner St      3    h  1220000.0      S   \n",
            "2         Abbotsford     119B Yarra St      3    h  1420000.0      S   \n",
            "3         Aberfeldie        68 Vida St      3    h  1515000.0      S   \n",
            "4       Airport West  92 Clydesdale Rd      2    h   670000.0      S   \n",
            "...              ...               ...    ...  ...        ...    ...   \n",
            "63016      Frankston    4/34 Petrie St      2    u   347700.0     SP   \n",
            "63017        Preston     229 Murray Rd      3    h   808000.0      S   \n",
            "63018  Roxburgh Park         3 Carr Pl      3    h   566000.0      S   \n",
            "63019  Roxburgh Park       9 Parker Ct      3    h   500000.0      S   \n",
            "63020  Roxburgh Park    5 Parkinson Wy      3    h   545000.0      S   \n",
            "\n",
            "        SellerG        Date  Postcode                  Regionname  \\\n",
            "0        Jellis   1/04/2017      3067       Northern Metropolitan   \n",
            "1      Marshall   1/04/2017      3067       Northern Metropolitan   \n",
            "2        Nelson   1/04/2017      3067       Northern Metropolitan   \n",
            "3         Barry   1/04/2017      3040        Western Metropolitan   \n",
            "4        Nelson   1/04/2017      3042        Western Metropolitan   \n",
            "...         ...         ...       ...                         ...   \n",
            "63016    Aquire  31/03/2018      3199  South-Eastern Metropolitan   \n",
            "63017        RW  31/03/2018      3072       Northern Metropolitan   \n",
            "63018     Raine  31/03/2018      3064       Northern Metropolitan   \n",
            "63019     Raine  31/03/2018      3064       Northern Metropolitan   \n",
            "63020     Raine  31/03/2018      3064       Northern Metropolitan   \n",
            "\n",
            "       Propertycount  Distance                 CouncilArea  \n",
            "0               4019       3.0          Yarra City Council  \n",
            "1               4019       3.0          Yarra City Council  \n",
            "2               4019       3.0          Yarra City Council  \n",
            "3               1543       7.5  Moonee Valley City Council  \n",
            "4               3464      10.4  Moonee Valley City Council  \n",
            "...              ...       ...                         ...  \n",
            "63016          17055      38.0      Frankston City Council  \n",
            "63017          14577       8.4        Darebin City Council  \n",
            "63018           5833      20.6           Hume City Council  \n",
            "63019           5833      20.6           Hume City Council  \n",
            "63020           5833      20.6           Hume City Council  \n",
            "\n",
            "[48433 rows x 13 columns]\n"
          ]
        }
      ]
    },
    {
      "cell_type": "code",
      "source": [
        "print(df.describe())"
      ],
      "metadata": {
        "colab": {
          "base_uri": "https://localhost:8080/"
        },
        "id": "28RcxzUf01CN",
        "outputId": "d62ff741-c15f-4a6d-d2c5-0868b5d9d443"
      },
      "execution_count": 6,
      "outputs": [
        {
          "output_type": "stream",
          "name": "stdout",
          "text": [
            "              Rooms         Price      Postcode  Propertycount      Distance\n",
            "count  48433.000000  4.843300e+04  48433.000000   48433.000000  48433.000000\n",
            "mean       3.071666  9.978982e+05   3123.210332    7566.399913     12.702761\n",
            "std        0.944708  5.934989e+05    125.534940    4457.405884      7.550030\n",
            "min        1.000000  8.500000e+04   3000.000000      39.000000      0.000000\n",
            "25%        2.000000  6.200000e+05   3051.000000    4280.000000      7.000000\n",
            "50%        3.000000  8.300000e+05   3103.000000    6567.000000     11.700000\n",
            "75%        4.000000  1.220000e+06   3163.000000   10412.000000     16.700000\n",
            "max       31.000000  1.120000e+07   3980.000000   21650.000000     55.800000\n"
          ]
        }
      ]
    }
  ]
}